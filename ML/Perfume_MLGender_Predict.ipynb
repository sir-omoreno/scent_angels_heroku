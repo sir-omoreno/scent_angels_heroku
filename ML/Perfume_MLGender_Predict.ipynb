{
 "cells": [
  {
   "cell_type": "code",
   "execution_count": 4,
   "id": "designed-accreditation",
   "metadata": {},
   "outputs": [],
   "source": [
    "import pandas as pd\n",
    "import pymongo\n",
    "from config import mongo_conn"
   ]
  },
  {
   "cell_type": "code",
   "execution_count": 5,
   "id": "exotic-prefix",
   "metadata": {},
   "outputs": [
    {
     "data": {
      "text/html": [
       "<div>\n",
       "<style scoped>\n",
       "    .dataframe tbody tr th:only-of-type {\n",
       "        vertical-align: middle;\n",
       "    }\n",
       "\n",
       "    .dataframe tbody tr th {\n",
       "        vertical-align: top;\n",
       "    }\n",
       "\n",
       "    .dataframe thead th {\n",
       "        text-align: right;\n",
       "    }\n",
       "</style>\n",
       "<table border=\"1\" class=\"dataframe\">\n",
       "  <thead>\n",
       "    <tr style=\"text-align: right;\">\n",
       "      <th></th>\n",
       "      <th>top_note_African Orange flower</th>\n",
       "      <th>top_note_Agarwood (Oud)</th>\n",
       "      <th>top_note_Aldehydes</th>\n",
       "      <th>top_note_Almond</th>\n",
       "      <th>top_note_Almond Blossom</th>\n",
       "      <th>top_note_Amalfi Lemon</th>\n",
       "      <th>top_note_Amber</th>\n",
       "      <th>top_note_Ambrette (Musk Mallow)</th>\n",
       "      <th>top_note_Angelica</th>\n",
       "      <th>top_note_Anise</th>\n",
       "      <th>...</th>\n",
       "      <th>base_note_White Sandalwood</th>\n",
       "      <th>base_note_White Woods</th>\n",
       "      <th>base_note_Woodsy Notes</th>\n",
       "      <th>base_note_Woody Notes</th>\n",
       "      <th>base_note_iris</th>\n",
       "      <th>base_note_oak moss</th>\n",
       "      <th>base_note_resins</th>\n",
       "      <th>base_note_vanilla bean</th>\n",
       "      <th>base_note_vetyver</th>\n",
       "      <th>base_note_white honey</th>\n",
       "    </tr>\n",
       "  </thead>\n",
       "  <tbody>\n",
       "    <tr>\n",
       "      <th>0</th>\n",
       "      <td>0</td>\n",
       "      <td>0</td>\n",
       "      <td>0</td>\n",
       "      <td>0</td>\n",
       "      <td>0</td>\n",
       "      <td>0</td>\n",
       "      <td>0</td>\n",
       "      <td>0</td>\n",
       "      <td>0</td>\n",
       "      <td>0</td>\n",
       "      <td>...</td>\n",
       "      <td>0</td>\n",
       "      <td>0</td>\n",
       "      <td>0</td>\n",
       "      <td>0</td>\n",
       "      <td>0</td>\n",
       "      <td>0</td>\n",
       "      <td>0</td>\n",
       "      <td>0</td>\n",
       "      <td>0</td>\n",
       "      <td>0</td>\n",
       "    </tr>\n",
       "  </tbody>\n",
       "</table>\n",
       "<p>1 rows × 766 columns</p>\n",
       "</div>"
      ],
      "text/plain": [
       "   top_note_African Orange flower  top_note_Agarwood (Oud)  \\\n",
       "0                               0                        0   \n",
       "\n",
       "   top_note_Aldehydes  top_note_Almond  top_note_Almond Blossom  \\\n",
       "0                   0                0                        0   \n",
       "\n",
       "   top_note_Amalfi Lemon  top_note_Amber  top_note_Ambrette (Musk Mallow)  \\\n",
       "0                      0               0                                0   \n",
       "\n",
       "   top_note_Angelica  top_note_Anise  ...  base_note_White Sandalwood  \\\n",
       "0                  0               0  ...                           0   \n",
       "\n",
       "   base_note_White Woods  base_note_Woodsy Notes  base_note_Woody Notes  \\\n",
       "0                      0                       0                      0   \n",
       "\n",
       "   base_note_iris  base_note_oak moss  base_note_resins  \\\n",
       "0               0                   0                 0   \n",
       "\n",
       "   base_note_vanilla bean  base_note_vetyver  base_note_white honey  \n",
       "0                       0                  0                      0  \n",
       "\n",
       "[1 rows x 766 columns]"
      ]
     },
     "execution_count": 5,
     "metadata": {},
     "output_type": "execute_result"
    }
   ],
   "source": [
    "# Initialize PyMongo to work with MongoDBs\n",
    "client = pymongo.MongoClient(mongo_conn)\n",
    "db = client.perfumes_db\n",
    "# Perfume Features collection to get the list of all features\n",
    "perfume_features = pd.DataFrame(list(db.perfume_features.find({},{'_id': False})))\n",
    "perfume_features.head()"
   ]
  },
  {
   "cell_type": "code",
   "execution_count": 3,
   "id": "gentle-input",
   "metadata": {},
   "outputs": [],
   "source": [
    "# Example of features list from user\n",
    "features_list = [\"top_note_Angelica\", \"top_note_Almond Blossom\", \"top_note_Ambrette (Musk Mallow)\", \"base_note_oak moss\", \"base_note_vetyver\"]"
   ]
  },
  {
   "cell_type": "code",
   "execution_count": 4,
   "id": "organized-dairy",
   "metadata": {},
   "outputs": [
    {
     "data": {
      "text/html": [
       "<div>\n",
       "<style scoped>\n",
       "    .dataframe tbody tr th:only-of-type {\n",
       "        vertical-align: middle;\n",
       "    }\n",
       "\n",
       "    .dataframe tbody tr th {\n",
       "        vertical-align: top;\n",
       "    }\n",
       "\n",
       "    .dataframe thead th {\n",
       "        text-align: right;\n",
       "    }\n",
       "</style>\n",
       "<table border=\"1\" class=\"dataframe\">\n",
       "  <thead>\n",
       "    <tr style=\"text-align: right;\">\n",
       "      <th></th>\n",
       "      <th>top_note_African Orange flower</th>\n",
       "      <th>top_note_Agarwood (Oud)</th>\n",
       "      <th>top_note_Aldehydes</th>\n",
       "      <th>top_note_Almond</th>\n",
       "      <th>top_note_Almond Blossom</th>\n",
       "      <th>top_note_Amalfi Lemon</th>\n",
       "      <th>top_note_Amber</th>\n",
       "      <th>top_note_Ambrette (Musk Mallow)</th>\n",
       "      <th>top_note_Angelica</th>\n",
       "      <th>top_note_Anise</th>\n",
       "      <th>...</th>\n",
       "      <th>base_note_White Sandalwood</th>\n",
       "      <th>base_note_White Woods</th>\n",
       "      <th>base_note_Woodsy Notes</th>\n",
       "      <th>base_note_Woody Notes</th>\n",
       "      <th>base_note_iris</th>\n",
       "      <th>base_note_oak moss</th>\n",
       "      <th>base_note_resins</th>\n",
       "      <th>base_note_vanilla bean</th>\n",
       "      <th>base_note_vetyver</th>\n",
       "      <th>base_note_white honey</th>\n",
       "    </tr>\n",
       "  </thead>\n",
       "  <tbody>\n",
       "    <tr>\n",
       "      <th>0</th>\n",
       "      <td>0</td>\n",
       "      <td>0</td>\n",
       "      <td>0</td>\n",
       "      <td>0</td>\n",
       "      <td>1</td>\n",
       "      <td>0</td>\n",
       "      <td>0</td>\n",
       "      <td>1</td>\n",
       "      <td>1</td>\n",
       "      <td>0</td>\n",
       "      <td>...</td>\n",
       "      <td>0</td>\n",
       "      <td>0</td>\n",
       "      <td>0</td>\n",
       "      <td>0</td>\n",
       "      <td>0</td>\n",
       "      <td>1</td>\n",
       "      <td>0</td>\n",
       "      <td>0</td>\n",
       "      <td>1</td>\n",
       "      <td>0</td>\n",
       "    </tr>\n",
       "  </tbody>\n",
       "</table>\n",
       "<p>1 rows × 766 columns</p>\n",
       "</div>"
      ],
      "text/plain": [
       "   top_note_African Orange flower  top_note_Agarwood (Oud)  \\\n",
       "0                               0                        0   \n",
       "\n",
       "   top_note_Aldehydes  top_note_Almond  top_note_Almond Blossom  \\\n",
       "0                   0                0                        1   \n",
       "\n",
       "   top_note_Amalfi Lemon  top_note_Amber  top_note_Ambrette (Musk Mallow)  \\\n",
       "0                      0               0                                1   \n",
       "\n",
       "   top_note_Angelica  top_note_Anise  ...  base_note_White Sandalwood  \\\n",
       "0                  1               0  ...                           0   \n",
       "\n",
       "   base_note_White Woods  base_note_Woodsy Notes  base_note_Woody Notes  \\\n",
       "0                      0                       0                      0   \n",
       "\n",
       "   base_note_iris  base_note_oak moss  base_note_resins  \\\n",
       "0               0                   1                 0   \n",
       "\n",
       "   base_note_vanilla bean  base_note_vetyver  base_note_white honey  \n",
       "0                       0                  1                      0  \n",
       "\n",
       "[1 rows x 766 columns]"
      ]
     },
     "execution_count": 4,
     "metadata": {},
     "output_type": "execute_result"
    }
   ],
   "source": [
    "# if feature is in the feature list, replace value with 1\n",
    "for feature in features_list:\n",
    "    perfume_features[feature] = 1\n",
    "    \n",
    "perfume_features.head()"
   ]
  },
  {
   "cell_type": "code",
   "execution_count": 5,
   "id": "senior-crime",
   "metadata": {},
   "outputs": [],
   "source": [
    "# load the perfume_gender model\n",
    "import joblib\n",
    "filename = '../webapp/static/Resources/gender_perfume_model.sav'\n",
    "perfume_gender_model = joblib.load(filename)"
   ]
  },
  {
   "cell_type": "code",
   "execution_count": 6,
   "id": "hidden-honolulu",
   "metadata": {},
   "outputs": [
    {
     "data": {
      "text/plain": [
       "array(['for women'], dtype=object)"
      ]
     },
     "execution_count": 6,
     "metadata": {},
     "output_type": "execute_result"
    }
   ],
   "source": [
    "# use model.predict to find if the perfume is for men, women or unisex\n",
    "perfume_gender_model.predict(perfume_features)"
   ]
  },
  {
   "cell_type": "code",
   "execution_count": null,
   "id": "unlikely-fluid",
   "metadata": {},
   "outputs": [],
   "source": []
  }
 ],
 "metadata": {
  "kernelspec": {
   "display_name": "Python 3",
   "language": "python",
   "name": "python3"
  },
  "language_info": {
   "codemirror_mode": {
    "name": "ipython",
    "version": 3
   },
   "file_extension": ".py",
   "mimetype": "text/x-python",
   "name": "python",
   "nbconvert_exporter": "python",
   "pygments_lexer": "ipython3",
   "version": "3.6.12"
  }
 },
 "nbformat": 4,
 "nbformat_minor": 5
}
